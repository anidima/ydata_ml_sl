{
  "cells": [
    {
      "cell_type": "markdown",
      "metadata": {
        "id": "HxuOSmJ4mdfp"
      },
      "source": [
        "# Ensemble Learning Exercise"
      ]
    },
    {
      "cell_type": "markdown",
      "metadata": {
        "id": "AYTXX2E6mdfr"
      },
      "source": [
        "## 1. Implementing Random Forest From Scratch (30 points)\n",
        "In this exercise you will need to implement a simple version of Random Forest Regressor from scratch. Your model will handle **continuous input and output**. \n",
        "\n",
        "1.1. Compelete the skeleton class below (you should use scikit-learn's `DecisionTreeRegressor` model that the `TreeEnsemble` will use)\n",
        "  - `X` is a matrix of data values (rows are samples, columns are attributes)\n",
        "  - `y` is a vector of corresponding target values\n",
        "  - `n_trees` is the number of trees to create\n",
        "  - `sample_sz` is the size of the sample set to use of each of the trees in the forest (chose the samples randomly, with or without repetition)\n",
        "  - `n_features` is the size of features to sample. This can be a natrual number > 0, or a ratio of the features as a number in range (0,1]\n",
        "  - `min_leaf` is the minimal number of samples in each leaf node of each tree in the forest\n",
        "  \n",
        "\n",
        "1.2. The `predict` function will use mean of the target values of the trees. The result is a vector of predictions matching the number of rows in `X`.\n",
        "\n",
        "1.3. The `oob_mse` function will compute the mean squared error over all **out of bag (oob)** samples. That is, for each sample calculate the squared error using  predictions from the trees that do not contain x in their respective bootstrap sample, then average this score for all samples. See:  [OOB Errors for Random Forests](https://scikit-learn.org/stable/auto_examples/ensemble/plot_ensemble_oob.html).\n",
        "\n",
        "1.4. To check your random forest implementation, use the boston dataset (`from sklearn.datasets import load_boston`)\n",
        "\n",
        "  - Use the following to estimate what are the best hyper parameters to use for your model\n",
        "```\n",
        "for n in [1,5,10,20,50,100]:\n",
        "  for sz in [50,100,300,500]:\n",
        "    for min_leaf in [1,5]:\n",
        "      forest = TreeEnsemble(X, y, n, sz, min_leaf)\n",
        "      mse = forest.oob_mse()\n",
        "      print(\"n_trees:{0}, sz:{1}, min_leaf:{2} --- oob mse: {3}\".format(n, sz, min_leaf, mse))\n",
        "```\n",
        "  \n",
        "  - Using your chosen hyperparameters as a final model, plot the predictions vs. true values of all the samples in the training set . Use something like:\n",
        "  ```\n",
        "  y_hat = forest.predict(X)  # forest is the chosen model\n",
        "  plt.scatter(y_hat, y)\n",
        "  ```\n",
        " \n"
      ]
    },
    {
      "cell_type": "code",
      "execution_count": 138,
      "metadata": {},
      "outputs": [],
      "source": [
        "import pandas as pd\n",
        "import numpy as np\n",
        "from sklearn.tree import DecisionTreeRegressor\n",
        "\n",
        "import matplotlib.pyplot as plt"
      ]
    },
    {
      "cell_type": "code",
      "execution_count": 161,
      "metadata": {
        "id": "sHamBoBemdfs"
      },
      "outputs": [],
      "source": [
        "class TreeEnsemble():\n",
        "    def __init__(self, X, y, n_trees, sample_sz, n_features=1, min_leaf=1):\n",
        "        self.X = X\n",
        "        self.y = y \n",
        "        self.n_trees = n_trees\n",
        "        self.sample_sz = sample_sz\n",
        "        if n_features <= 1:\n",
        "            self.n_features = round(X.shape[1] * n_features)\n",
        "        else:\n",
        "            self.n_features = n_features\n",
        "        self.min_leaf = min_leaf\n",
        "        self.trees = []\n",
        "        self.oob_total_idxs = np.arange(X.shape[0])\n",
        "\n",
        "        self._fit(X, y)\n",
        "\n",
        "\n",
        "    def _fit(self, X, y):\n",
        "\n",
        "        for _ in range(self.n_trees):\n",
        "            \n",
        "            # randomly choose raws for tree\n",
        "            selected_raws = np.random.choice(X.shape[0], size=self.sample_sz, replace=True)\n",
        "            selected_features = sorted(np.random.choice(X.shape[1], size=self.n_features, replace=False))\n",
        "\n",
        "            inbag_sample = X[selected_raws][:,selected_features]\n",
        "            inbag_target = y[selected_raws]\n",
        "\n",
        "            # calculate raws in oob\n",
        "            self.oob_total_idxs = np.setdiff1d(self.oob_total_idxs, selected_raws)\n",
        "            \n",
        "            tree = DecisionTreeRegressor(min_samples_leaf=self.min_leaf)\n",
        "            \n",
        "            # fit tree and save it in self.trees\n",
        "            tree.fit(inbag_sample, inbag_target)\n",
        "            self.trees.append(tree)\n",
        "\n",
        "        #print(self.oob_total_idxs)\n",
        "\n",
        "\n",
        "    def predict(self, X):\n",
        "        \n",
        "        # predict with each tree\n",
        "        predictions = np.array([tree.predict(X) for tree in self.trees])\n",
        "        tree_preds = predictions.mean(axis=0)\n",
        "        \n",
        "        return tree_preds\n",
        "\n",
        "\n",
        "    def oob_mse(self):\n",
        "        \n",
        "        # check if there raws in oob\n",
        "        if not self.oob_total_idxs.size:\n",
        "            return \"Out-of-bag set is empty\"\n",
        "        else:\n",
        "            # oob set\n",
        "            y_oob = self.y[self.oob_total_idxs]\n",
        "            \n",
        "            y_pred_2 = self.predict(self.X[self.oob_total_idxs])\n",
        "            print(y_pred_2)\n",
        "\n",
        "            # make prediction and extract oob\n",
        "            y_pred = self.predict(self.X)\n",
        "            y_pred_oob = y_pred[self.oob_total_idxs]\n",
        "\n",
        "            print(y_pred_oob)\n",
        "\n",
        "            oob_mse = np.mean((y_oob - y_pred_oob) ** 2)\n",
        "            \n",
        "            return oob_mse\n",
        "\n"
      ]
    },
    {
      "cell_type": "code",
      "execution_count": 127,
      "metadata": {},
      "outputs": [],
      "source": [
        "data_url = \"http://lib.stat.cmu.edu/datasets/boston\"\n",
        "raw_df = pd.read_csv(data_url, sep=\"\\s+\", skiprows=22, header=None)\n",
        "X = np.hstack([raw_df.values[::2, :], raw_df.values[1::2, :2]])\n",
        "y = raw_df.values[1::2, 2]\n"
      ]
    },
    {
      "cell_type": "code",
      "execution_count": 136,
      "metadata": {},
      "outputs": [
        {
          "name": "stdout",
          "output_type": "stream",
          "text": [
            "n_trees:1, sz:50, min_leaf:1 --- oob mse: 29.687717391304346\n",
            "n_trees:1, sz:50, min_leaf:5 --- oob mse: 29.614013250180765\n",
            "n_trees:1, sz:100, min_leaf:1 --- oob mse: 49.492749391727486\n",
            "n_trees:1, sz:100, min_leaf:5 --- oob mse: 22.914970759820903\n",
            "n_trees:1, sz:300, min_leaf:1 --- oob mse: 25.275745454545458\n",
            "n_trees:1, sz:300, min_leaf:5 --- oob mse: 18.537672809700904\n",
            "n_trees:1, sz:500, min_leaf:1 --- oob mse: 16.296649746192895\n",
            "n_trees:1, sz:500, min_leaf:5 --- oob mse: 13.91841505659311\n",
            "n_trees:5, sz:50, min_leaf:1 --- oob mse: 21.536624675324678\n",
            "n_trees:5, sz:50, min_leaf:5 --- oob mse: 29.741138168041733\n",
            "n_trees:5, sz:100, min_leaf:1 --- oob mse: 14.880008465608464\n",
            "n_trees:5, sz:100, min_leaf:5 --- oob mse: 18.3429004998703\n",
            "n_trees:5, sz:300, min_leaf:1 --- oob mse: 5.318276923076921\n",
            "n_trees:5, sz:300, min_leaf:5 --- oob mse: 33.19474614382716\n",
            "n_trees:5, sz:500, min_leaf:1 --- oob mse: 4.142799999999998\n",
            "n_trees:5, sz:500, min_leaf:5 --- oob mse: 3.4663650285756282\n",
            "n_trees:10, sz:50, min_leaf:1 --- oob mse: 18.504705232558138\n",
            "n_trees:10, sz:50, min_leaf:5 --- oob mse: 25.67372617696939\n",
            "n_trees:10, sz:100, min_leaf:1 --- oob mse: 10.209624324324324\n",
            "n_trees:10, sz:100, min_leaf:5 --- oob mse: 13.055913523258374\n",
            "n_trees:10, sz:300, min_leaf:1 --- oob mse: 4.708900000000007\n",
            "n_trees:10, sz:300, min_leaf:5 --- oob mse: 14.583397103316356\n",
            "n_trees:10, sz:500, min_leaf:1 --- oob mse: Out-of-bag set is empty\n",
            "n_trees:10, sz:500, min_leaf:5 --- oob mse: Out-of-bag set is empty\n",
            "n_trees:20, sz:50, min_leaf:1 --- oob mse: 8.442514383561644\n",
            "n_trees:20, sz:50, min_leaf:5 --- oob mse: 15.483253058223152\n",
            "n_trees:20, sz:100, min_leaf:1 --- oob mse: 16.125119444444422\n",
            "n_trees:20, sz:100, min_leaf:5 --- oob mse: 89.86028177868285\n",
            "n_trees:20, sz:300, min_leaf:1 --- oob mse: Out-of-bag set is empty\n",
            "n_trees:20, sz:300, min_leaf:5 --- oob mse: Out-of-bag set is empty\n",
            "n_trees:20, sz:500, min_leaf:1 --- oob mse: Out-of-bag set is empty\n",
            "n_trees:20, sz:500, min_leaf:5 --- oob mse: Out-of-bag set is empty\n",
            "n_trees:50, sz:50, min_leaf:1 --- oob mse: 29.871738000000008\n",
            "n_trees:50, sz:50, min_leaf:5 --- oob mse: 0.47630730544617145\n",
            "n_trees:50, sz:100, min_leaf:1 --- oob mse: Out-of-bag set is empty\n",
            "n_trees:50, sz:100, min_leaf:5 --- oob mse: Out-of-bag set is empty\n",
            "n_trees:50, sz:300, min_leaf:1 --- oob mse: Out-of-bag set is empty\n",
            "n_trees:50, sz:300, min_leaf:5 --- oob mse: Out-of-bag set is empty\n",
            "n_trees:50, sz:500, min_leaf:1 --- oob mse: Out-of-bag set is empty\n",
            "n_trees:50, sz:500, min_leaf:5 --- oob mse: Out-of-bag set is empty\n",
            "n_trees:100, sz:50, min_leaf:1 --- oob mse: Out-of-bag set is empty\n",
            "n_trees:100, sz:50, min_leaf:5 --- oob mse: Out-of-bag set is empty\n",
            "n_trees:100, sz:100, min_leaf:1 --- oob mse: Out-of-bag set is empty\n",
            "n_trees:100, sz:100, min_leaf:5 --- oob mse: Out-of-bag set is empty\n",
            "n_trees:100, sz:300, min_leaf:1 --- oob mse: Out-of-bag set is empty\n",
            "n_trees:100, sz:300, min_leaf:5 --- oob mse: Out-of-bag set is empty\n",
            "n_trees:100, sz:500, min_leaf:1 --- oob mse: Out-of-bag set is empty\n",
            "n_trees:100, sz:500, min_leaf:5 --- oob mse: Out-of-bag set is empty\n"
          ]
        }
      ],
      "source": [
        "for n in [1,5,10,20,50,100]:\n",
        "  for sz in [50,100,300,500]:\n",
        "    for min_leaf in [1,5]:\n",
        "      forest = TreeEnsemble(X, y, n, sz, min_leaf=min_leaf)\n",
        "      mse = forest.oob_mse()\n",
        "      print(\"n_trees:{0}, sz:{1}, min_leaf:{2} --- oob mse: {3}\".format(n, sz, min_leaf, mse))"
      ]
    },
    {
      "cell_type": "code",
      "execution_count": 160,
      "metadata": {},
      "outputs": [
        {
          "data": {
            "image/png": "[encoded data removed]",
            "text/plain": [
              "<Figure size 640x480 with 1 Axes>"
            ]
          },
          "metadata": {},
          "output_type": "display_data"
        }
      ],
      "source": [
        "forest = TreeEnsemble(X, y, 20, 300, min_leaf=1)\n",
        "y_hat = forest.predict(X) \n",
        "plt.scatter(y_hat, y)\n",
        "plt.xlabel(\"Predictions\")\n",
        "plt.ylabel(\"True Values\")\n",
        "plt.show()"
      ]
    },
    {
      "cell_type": "markdown",
      "metadata": {
        "id": "kt7N2c7tmdfs"
      },
      "source": [
        "## 2. Implementing AdaBoost From Scratch (30 points)\n",
        "\n",
        "\n",
        "2.1.   Implement the AdaBoost algorithm for classification task. Your `AdaBoost` class should receive a method for creating a weak learner, which has a fit and predict methods (**hint**: you can simulate re-weighting of the samples by an appropriate re-sampling of the train set).\n",
        "\n",
        "2.2.   Use your model to find a strong classifier on the sample set given below, using $n$ weak learners:\n",
        "\n",
        "2.2.1. For the base weak learners, use any classifier you want (check different types with different configuration, keep them simple = Weak). \n",
        "\n",
        "2.2.2. Split the sample set into train and test sets.\n",
        "\n",
        "2.2.3 Plot the final decision plane of your classifier for $n\\in \\{1, 2, 3, 5, 10, 50\\}$, and visualize the final iteration weights of the samples in those plots.\n",
        "    - How does the overall train set accuracy changes with $n$?\n",
        "    - Does you model starts to overfit at some point?\n",
        "\n",
        "\n",
        "\n"
      ]
    },
    {
      "cell_type": "code",
      "execution_count": null,
      "metadata": {
        "id": "Hw1uXpshmdft"
      },
      "outputs": [],
      "source": [
        "from sklearn.datasets import make_circles\n",
        "from matplotlib import pyplot\n",
        "from pandas import DataFrame\n",
        "\n",
        "# generate 2d classification dataset\n",
        "X, y = make_circles(n_samples=1500, noise=0.2, random_state=101, factor=0.5)\n",
        "\n",
        "# scatter plot, dots colored by class value\n",
        "df = DataFrame(dict(x=X[:,0], y=X[:,1], label=y))\n",
        "colors = {0:'red', 1:'blue'}\n",
        "fig, ax = pyplot.subplots()\n",
        "grouped = df.groupby('label')\n",
        "for key, group in grouped:\n",
        "    group.plot(ax=ax, kind='scatter', x='x', y='y', label=key, color=colors[key])\n",
        "pyplot.show()"
      ]
    },
    {
      "cell_type": "code",
      "execution_count": null,
      "metadata": {
        "id": "oEutkwR2mdft"
      },
      "outputs": [],
      "source": []
    },
    {
      "cell_type": "markdown",
      "metadata": {
        "id": "_WA2heXLmdft"
      },
      "source": [
        "## 3. Boosting Trees from Scratch (40 points)\n",
        "1. Use the scikit-learn's DecisionTreeRegressor (again :) with `max_depth = 1` (stumps)  to write a L2Boost model which minimize the L2 square loss iteration by iteration.\n",
        "Reminder: in each step, build a decision tree to minimize the error between the true label and the accumulated (sum) of the previous step predictions.\n",
        "![alt text](https://explained.ai/gradient-boosting/images/latex-321A7951E78381FB73D2A6874916134D.svg)\n",
        "2. Use the Boston dataset to plot the MSE as a function of the number of trees for a logspace of `n_trees` up to 1,000. What is the optimal value of `n_trees`? of learning rate?\n",
        "3. Compare the performance with a deep DecisionTreeRegressor (find the optimal `max_depth`).  Who wins?\n",
        "4. Add an early-stopping mechanisim to the GBTL2 model to use a validation set to detect over-fit."
      ]
    },
    {
      "cell_type": "code",
      "execution_count": null,
      "metadata": {
        "id": "mKIhqCTEmdft"
      },
      "outputs": [],
      "source": []
    }
  ],
  "metadata": {
    "colab": {
      "provenance": []
    },
    "kernelspec": {
      "display_name": "Python 3",
      "language": "python",
      "name": "python3"
    },
    "language_info": {
      "codemirror_mode": {
        "name": "ipython",
        "version": 3
      },
      "file_extension": ".py",
      "mimetype": "text/x-python",
      "name": "python",
      "nbconvert_exporter": "python",
      "pygments_lexer": "ipython3",
      "version": "3.10.13"
    }
  },
  "nbformat": 4,
  "nbformat_minor": 0
}
